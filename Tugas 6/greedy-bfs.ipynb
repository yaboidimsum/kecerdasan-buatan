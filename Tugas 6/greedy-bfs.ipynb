{
 "cells": [
  {
   "cell_type": "code",
   "execution_count": 3,
   "metadata": {},
   "outputs": [],
   "source": [
    "import heapq\n",
    "jatim = {}"
   ]
  },
  {
   "cell_type": "code",
   "execution_count": 4,
   "metadata": {},
   "outputs": [],
   "source": [
    "class PriorityQueue:\n",
    "    def __init__(self) -> None:\n",
    "        self.cities = []\n",
    "\n",
    "    def isEmpty(self):\n",
    "        if self.cities == []:\n",
    "            return True\n",
    "        return False\n",
    "\n",
    "    def check(self):\n",
    "        print(self.cities)\n",
    "\n",
    "    def push(self, city, cost):\n",
    "        heapq.heappush(self.cities, (cost, city))\n",
    "    \n",
    "    def pop(self):\n",
    "        return heapq.heappop(self.cities)[1]"
   ]
  },
  {
   "cell_type": "code",
   "execution_count": 5,
   "metadata": {},
   "outputs": [],
   "source": [
    "class CityNode:\n",
    "  def __init__(self, city, distance) -> None:\n",
    "    self.city = str(city)\n",
    "    self.distance = str(distance)"
   ]
  },
  {
   "attachments": {},
   "cell_type": "markdown",
   "metadata": {},
   "source": [
    "**makeDict()**\n",
    "Bekerja dengan membaca isi file *distance.txt* lalu melakukan for loop untuk memisahkan value city1,city2,distance yang dipisah dengan koma ',' lalu diappend ke dictionary jatim sehingga isinya adalah city1 dengan city2 serta jaraknya yang dimiliki.\n",
    "\n",
    "setDefault berfungsi jika city1/city2 blum ada, maka akan dibuatkan city1 dan diberi [] atau value kosong"
   ]
  },
  {
   "cell_type": "code",
   "execution_count": 2,
   "metadata": {},
   "outputs": [],
   "source": [
    "def makeDict():\n",
    "    file = open(\"distance.txt\", 'r')\n",
    "    for str in file:\n",
    "        delimeter = str.split(',')\n",
    "        #print(delimeter) # add this line\n",
    "        city1 = delimeter[0]\n",
    "        city2 = delimeter[1]\n",
    "        dist = delimeter[2]\n",
    "        jatim.setdefault(city1, []).append(CityNode(city2, dist))\n",
    "        jatim.setdefault(city2, []).append(CityNode(city1, dist))\n"
   ]
  },
  {
   "attachments": {},
   "cell_type": "markdown",
   "metadata": {},
   "source": [
    "**makeHeuristicDict()** bekerja dengan cara membuat dictionary h yang isinya merupakan hasil for loop dari file heuristic.txt. Isi dictionary h nanti adalah node/nama kota yang merupakan key dan sld adalah jarak yang merupakan value."
   ]
  },
  {
   "cell_type": "code",
   "execution_count": 6,
   "metadata": {},
   "outputs": [],
   "source": [
    "def makeHeuristicDict():\n",
    "    h = {}\n",
    "    file = open(\"heuristic.txt\", 'r')\n",
    "    for str in file:\n",
    "        delimeter = str.strip().split(',')\n",
    "        node = delimeter[0].strip()\n",
    "        sld  = int(delimeter[1].strip()) # Jalan lurus\n",
    "        h[node] = sld\n",
    "    return h\n",
    "\n",
    "def heuristic(node, values):\n",
    "    node = node.strip()\n",
    "    return values[node] "
   ]
  },
  {
   "attachments": {},
   "cell_type": "markdown",
   "metadata": {},
   "source": [
    "Inti dari kode ini adalah for loop mengambil kota dan cabangnya, lalu saat berulang ke while curr akan mengambil nilai terkecil dengan cara q.pop sampai nilai curr == end lalu gunakan printOutput.\n",
    "\n",
    "path berisi jalur dengan heuristik terkecil yang telah ditentukan\n"
   ]
  },
  {
   "cell_type": "code",
   "execution_count": 7,
   "metadata": {},
   "outputs": [],
   "source": [
    "def greedyBFS(start, end):\n",
    "    path = {}\n",
    "    q = PriorityQueue()\n",
    "    h = makeHeuristicDict()\n",
    "\n",
    "    q.push(start, 0)\n",
    "    path[start] = None\n",
    "    expandList = []\n",
    "\n",
    "    while q.isEmpty() == False:\n",
    "        curr = q.pop()\n",
    "        expandList.append(curr)\n",
    "\n",
    "        if curr == end:\n",
    "            break\n",
    "        \n",
    "        for new in jatim[curr]:\n",
    "            if new.city not in path:\n",
    "                f_cost = heuristic(new.city, h)\n",
    "                q.push(new.city, f_cost)\n",
    "                path[new.city] = curr\n",
    "\n",
    "    printOutput(start, end, path, expandList)\n",
    "\n",
    "def printOutput(start, end, path, expandList):\n",
    "    finalpath = []\n",
    "    i = end\n",
    "\n",
    "    while (path.get(i) != None):\n",
    "        finalpath.append(i)\n",
    "        i = path[i]\n",
    "    finalpath.append(start)\n",
    "    finalpath.reverse()\n",
    "\n",
    "    print(path)\n",
    "    print(\"Membuat A* Sederhana\")\n",
    "    print(\"Magetan => Surabaya\\n\")\n",
    "    print(\"Kota yang mungkin dikunjungi \\t\\t: \" + str(expandList))\n",
    "    print(\"Jumlah kemungkinan kota \\t\\t: \" + str(len(expandList)))\n",
    "    print(\"\\n\")\n",
    "    print(\"Kota yg dilewati dengan jarak terpendek\\t: \" + str(finalpath))\n",
    "    print(\"Jumlah kota yang dilewati \\t\\t: \" + str(len(finalpath)))"
   ]
  },
  {
   "cell_type": "code",
   "execution_count": 8,
   "metadata": {},
   "outputs": [
    {
     "name": "stdout",
     "output_type": "stream",
     "text": [
      "{'Surabaya': None, 'Gresik': 'Surabaya', 'Jombang': 'Surabaya', 'Bangkalan': 'Surabaya', 'Sidoarjo': 'Surabaya', 'Lamongan': 'Gresik', 'Probolinggo': 'Sidoarjo', 'Bojonegoro': 'Jombang', 'Nganjuk': 'Jombang', 'Ngawi': 'Bojonegoro', 'Madiun': 'Nganjuk', 'Situbondo': 'Probolinggo', 'Magetan': 'Madiun', 'Ponorogo': 'Madiun', 'Sampang': 'Bangkalan', 'Pamekasan': 'Sampang', 'Sumenep': 'Pamekasan'}\n",
      "Membuat A* Sederhana\n",
      "Magetan => Surabaya\n",
      "\n",
      "Kota yang mungkin dikunjungi \t\t: ['Surabaya', 'Gresik', 'Sidoarjo', 'Jombang', 'Lamongan', 'Bojonegoro', 'Nganjuk', 'Probolinggo', 'Madiun', 'Ponorogo', 'Ngawi', 'Bangkalan', 'Sampang', 'Pamekasan', 'Situbondo', 'Sumenep', 'Magetan']\n",
      "Jumlah kemungkinan kota \t\t: 17\n",
      "\n",
      "\n",
      "Kota yg dilewati dengan jarak terpendek\t: ['Surabaya', 'Jombang', 'Nganjuk', 'Madiun', 'Magetan']\n",
      "Jumlah kota yang dilewati \t\t: 5\n"
     ]
    }
   ],
   "source": [
    "def main():\n",
    "    src = \"Surabaya\"\n",
    "    dst = \"Magetan\"\n",
    "    makeDict()\n",
    "    greedyBFS(src, dst)\n",
    "\n",
    "if __name__ == \"__main__\":\n",
    "    main()"
   ]
  },
  {
   "cell_type": "code",
   "execution_count": null,
   "metadata": {},
   "outputs": [],
   "source": []
  }
 ],
 "metadata": {
  "kernelspec": {
   "display_name": "Python 3",
   "language": "python",
   "name": "python3"
  },
  "language_info": {
   "codemirror_mode": {
    "name": "ipython",
    "version": 3
   },
   "file_extension": ".py",
   "mimetype": "text/x-python",
   "name": "python",
   "nbconvert_exporter": "python",
   "pygments_lexer": "ipython3",
   "version": "3.11.1"
  },
  "orig_nbformat": 4
 },
 "nbformat": 4,
 "nbformat_minor": 2
}
